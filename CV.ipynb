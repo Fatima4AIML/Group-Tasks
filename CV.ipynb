{
 "cells": [
  {
   "cell_type": "markdown",
   "metadata": {},
   "source": [
    "## Personal Profile: ##"
   ]
  },
  {
   "cell_type": "markdown",
   "metadata": {},
   "source": [
    "### **Objective :**\n",
    "##### I am aspirant of learning python skills,for achieving my goal i wanna to learn programming languages ***Java, Python , CSS , HTML ,C# ,Javascript *** and so on to enhance my skills set by learning new programming languages and applying them to solve complex problems and contribute to innovative projects.\n",
    "\n",
    "### **Personal Info :**\n",
    "\n",
    "- Name: Faiqa Nazeer Quraishi\n",
    "\n",
    "- Father Name: M.Nazeer\n",
    "\n",
    "- Contact no: +920000000000\n",
    "\n",
    "- e-mail : *****@gmail.com\n",
    "\n",
    "\n",
    "#### **Education :** \n",
    "\n",
    "- MATRIC in Computer Science (2021)\n",
    "\n",
    "- Intermediate in ICS (2023)\n",
    "\n",
    "- Currently Doing BS in IT from UOG (University of GUJRAT)\n",
    "\n",
    "\n",
    "### **Address :**\n",
    "\n",
    "- Native of **Pakistan**\n",
    "\n",
    "- Permanent Address: *********RWP\n",
    "\n",
    "- HomeTown : *Abbottabad,KPK*\n",
    "\n",
    "\n",
    "### **Experiences :**\n",
    "\n",
    "- Teaching expert\n",
    "\n",
    "### **Skills :**\n",
    "\n",
    "- Drawing Skills.\n",
    "\n",
    "- Painting\n",
    "\n",
    "- Cooking\n",
    "\n",
    "- Crafting\n",
    "\n"
   ]
  },
  {
   "cell_type": "markdown",
   "metadata": {},
   "source": []
  }
 ],
 "metadata": {
  "language_info": {
   "name": "python"
  }
 },
 "nbformat": 4,
 "nbformat_minor": 2
}
